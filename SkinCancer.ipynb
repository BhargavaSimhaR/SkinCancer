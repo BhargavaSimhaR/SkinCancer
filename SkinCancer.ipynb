{
  "nbformat": 4,
  "nbformat_minor": 0,
  "metadata": {
    "colab": {
      "provenance": [],
      "mount_file_id": "1k6KzY5fcUNdDeM380Tu6RyPTmdtQ842X",
      "authorship_tag": "ABX9TyN2ryV8VQuLHYLNW1IH8BQo",
      "include_colab_link": true
    },
    "kernelspec": {
      "name": "python3",
      "display_name": "Python 3"
    },
    "language_info": {
      "name": "python"
    }
  },
  "cells": [
    {
      "cell_type": "markdown",
      "metadata": {
        "id": "view-in-github",
        "colab_type": "text"
      },
      "source": [
        "<a href=\"https://colab.research.google.com/github/BhargavaSimhaR/Simha2/blob/main/SkinCancer.ipynb\" target=\"_parent\"><img src=\"https://colab.research.google.com/assets/colab-badge.svg\" alt=\"Open In Colab\"/></a>"
      ]
    },
    {
      "cell_type": "code",
      "execution_count": null,
      "metadata": {
        "colab": {
          "base_uri": "https://localhost:8080/"
        },
        "id": "gZoBAQYZYV0v",
        "outputId": "5a8cf7a6-4480-4bb9-80c4-dafae9a8e56e"
      },
      "outputs": [
        {
          "output_type": "stream",
          "name": "stdout",
          "text": [
            "Found 2239 images belonging to 9 classes.\n",
            "Found 118 images belonging to 9 classes.\n"
          ]
        }
      ],
      "source": [
        "from tensorflow.keras.preprocessing.image import ImageDataGenerator\n",
        "\n",
        "train_dir = '/content/drive/MyDrive/Images/archive/Skin cancer ISIC The International Skin Imaging Collaboration/Train'\n",
        "test_dir = '/content/drive/MyDrive/Images/archive/Skin cancer ISIC The International Skin Imaging Collaboration/Test'\n",
        "IMG_HEIGHT, IMG_WIDTH = 128, 128\n",
        "BATCH_SIZE = 32\n",
        "\n",
        "# Data augmentation for training\n",
        "train_datagen = ImageDataGenerator(rescale=1.0/255.0)\n",
        "test_datagen = ImageDataGenerator(rescale=1.0/255.0)\n",
        "\n",
        "train_data = train_datagen.flow_from_directory(\n",
        "    train_dir,\n",
        "    target_size=(IMG_HEIGHT, IMG_WIDTH),\n",
        "    batch_size=BATCH_SIZE,\n",
        "    class_mode='categorical'\n",
        ")\n",
        "\n",
        "test_data = test_datagen.flow_from_directory(\n",
        "    test_dir,\n",
        "    target_size=(IMG_HEIGHT, IMG_WIDTH),\n",
        "    batch_size=BATCH_SIZE,\n",
        "    class_mode='categorical'\n",
        ")"
      ]
    },
    {
      "cell_type": "code",
      "source": [
        "from tensorflow.keras import Sequential\n",
        "from tensorflow.keras.layers import Conv2D, MaxPooling2D, Flatten, Dense, Input\n",
        "\n",
        "# Define the CNN Model\n",
        "cnn_model = Sequential([\n",
        "    Input(shape=(IMG_HEIGHT, IMG_WIDTH, 3)),\n",
        "    Conv2D(32, (3, 3), activation='relu'),\n",
        "    MaxPooling2D(pool_size=(2, 2)),\n",
        "    Conv2D(64, (3, 3), activation='relu'),\n",
        "    MaxPooling2D(pool_size=(2, 2)),\n",
        "    Conv2D(128, (3, 3), activation='relu'),\n",
        "    MaxPooling2D(pool_size=(2, 2)),\n",
        "    Flatten(),\n",
        "    Dense(128, activation='relu'),\n",
        "    Dense(train_data.num_classes, activation='softmax')  # Adjust for number of classes in your dataset\n",
        "])\n",
        "\n",
        "cnn_model.compile(optimizer='adam', loss='categorical_crossentropy', metrics=['accuracy'])"
      ],
      "metadata": {
        "id": "zidAdaArZGTO"
      },
      "execution_count": null,
      "outputs": []
    },
    {
      "cell_type": "code",
      "source": [
        "import warnings\n",
        "warnings.filterwarnings(\"ignore\", category=UserWarning, module=\"keras\")"
      ],
      "metadata": {
        "id": "U9dq3w1SZgcj"
      },
      "execution_count": null,
      "outputs": []
    },
    {
      "cell_type": "code",
      "source": [
        "# Train the CNN model\n",
        "cnn_model.fit(train_data, epochs=10, validation_data=test_data)"
      ],
      "metadata": {
        "colab": {
          "base_uri": "https://localhost:8080/"
        },
        "id": "Ui5sth7UZpx2",
        "outputId": "a1e33200-34a9-4f7b-d35e-30b5909bf7c5"
      },
      "execution_count": null,
      "outputs": [
        {
          "output_type": "stream",
          "name": "stdout",
          "text": [
            "Epoch 1/10\n",
            "\u001b[1m70/70\u001b[0m \u001b[32m━━━━━━━━━━━━━━━━━━━━\u001b[0m\u001b[37m\u001b[0m \u001b[1m592s\u001b[0m 8s/step - accuracy: 0.2045 - loss: 2.0969 - val_accuracy: 0.1780 - val_loss: 2.2705\n",
            "Epoch 2/10\n",
            "\u001b[1m70/70\u001b[0m \u001b[32m━━━━━━━━━━━━━━━━━━━━\u001b[0m\u001b[37m\u001b[0m \u001b[1m101s\u001b[0m 1s/step - accuracy: 0.4194 - loss: 1.5994 - val_accuracy: 0.2881 - val_loss: 2.0232\n",
            "Epoch 3/10\n",
            "\u001b[1m70/70\u001b[0m \u001b[32m━━━━━━━━━━━━━━━━━━━━\u001b[0m\u001b[37m\u001b[0m \u001b[1m102s\u001b[0m 1s/step - accuracy: 0.4956 - loss: 1.4163 - val_accuracy: 0.2966 - val_loss: 2.3936\n",
            "Epoch 4/10\n",
            "\u001b[1m70/70\u001b[0m \u001b[32m━━━━━━━━━━━━━━━━━━━━\u001b[0m\u001b[37m\u001b[0m \u001b[1m147s\u001b[0m 1s/step - accuracy: 0.4881 - loss: 1.4170 - val_accuracy: 0.3559 - val_loss: 2.2123\n",
            "Epoch 5/10\n",
            "\u001b[1m70/70\u001b[0m \u001b[32m━━━━━━━━━━━━━━━━━━━━\u001b[0m\u001b[37m\u001b[0m \u001b[1m103s\u001b[0m 1s/step - accuracy: 0.5255 - loss: 1.3182 - val_accuracy: 0.3559 - val_loss: 2.2413\n",
            "Epoch 6/10\n",
            "\u001b[1m70/70\u001b[0m \u001b[32m━━━━━━━━━━━━━━━━━━━━\u001b[0m\u001b[37m\u001b[0m \u001b[1m140s\u001b[0m 1s/step - accuracy: 0.5757 - loss: 1.1916 - val_accuracy: 0.4068 - val_loss: 2.1207\n",
            "Epoch 7/10\n",
            "\u001b[1m70/70\u001b[0m \u001b[32m━━━━━━━━━━━━━━━━━━━━\u001b[0m\u001b[37m\u001b[0m \u001b[1m142s\u001b[0m 1s/step - accuracy: 0.6067 - loss: 1.1399 - val_accuracy: 0.3305 - val_loss: 2.5128\n",
            "Epoch 8/10\n",
            "\u001b[1m70/70\u001b[0m \u001b[32m━━━━━━━━━━━━━━━━━━━━\u001b[0m\u001b[37m\u001b[0m \u001b[1m141s\u001b[0m 1s/step - accuracy: 0.6064 - loss: 1.1352 - val_accuracy: 0.3559 - val_loss: 2.3880\n",
            "Epoch 9/10\n",
            "\u001b[1m70/70\u001b[0m \u001b[32m━━━━━━━━━━━━━━━━━━━━\u001b[0m\u001b[37m\u001b[0m \u001b[1m110s\u001b[0m 2s/step - accuracy: 0.5993 - loss: 1.1154 - val_accuracy: 0.3136 - val_loss: 2.4659\n",
            "Epoch 10/10\n",
            "\u001b[1m70/70\u001b[0m \u001b[32m━━━━━━━━━━━━━━━━━━━━\u001b[0m\u001b[37m\u001b[0m \u001b[1m100s\u001b[0m 1s/step - accuracy: 0.6198 - loss: 1.0401 - val_accuracy: 0.3644 - val_loss: 2.3263\n"
          ]
        },
        {
          "output_type": "execute_result",
          "data": {
            "text/plain": [
              "<keras.src.callbacks.history.History at 0x7d26f274c0d0>"
            ]
          },
          "metadata": {},
          "execution_count": 5
        }
      ]
    },
    {
      "cell_type": "code",
      "source": [
        "# Train the CNN model\n",
        "cnn_model.fit(train_data, epochs=10, validation_data=test_data)"
      ],
      "metadata": {
        "colab": {
          "base_uri": "https://localhost:8080/"
        },
        "id": "fWKmtcKUiSgf",
        "outputId": "59c7aa56-fc5b-4c5c-9af4-3a1512d18d64"
      },
      "execution_count": null,
      "outputs": [
        {
          "output_type": "stream",
          "name": "stdout",
          "text": [
            "Epoch 1/10\n",
            "\u001b[1m70/70\u001b[0m \u001b[32m━━━━━━━━━━━━━━━━━━━━\u001b[0m\u001b[37m\u001b[0m \u001b[1m104s\u001b[0m 1s/step - accuracy: 0.6565 - loss: 0.9461 - val_accuracy: 0.4576 - val_loss: 2.3297\n",
            "Epoch 2/10\n",
            "\u001b[1m70/70\u001b[0m \u001b[32m━━━━━━━━━━━━━━━━━━━━\u001b[0m\u001b[37m\u001b[0m \u001b[1m114s\u001b[0m 2s/step - accuracy: 0.6726 - loss: 0.9103 - val_accuracy: 0.3644 - val_loss: 2.8796\n",
            "Epoch 3/10\n",
            "\u001b[1m70/70\u001b[0m \u001b[32m━━━━━━━━━━━━━━━━━━━━\u001b[0m\u001b[37m\u001b[0m \u001b[1m104s\u001b[0m 1s/step - accuracy: 0.6751 - loss: 0.8641 - val_accuracy: 0.3559 - val_loss: 3.0385\n",
            "Epoch 4/10\n",
            "\u001b[1m70/70\u001b[0m \u001b[32m━━━━━━━━━━━━━━━━━━━━\u001b[0m\u001b[37m\u001b[0m \u001b[1m102s\u001b[0m 1s/step - accuracy: 0.7219 - loss: 0.7801 - val_accuracy: 0.3559 - val_loss: 3.3049\n",
            "Epoch 5/10\n",
            "\u001b[1m70/70\u001b[0m \u001b[32m━━━━━━━━━━━━━━━━━━━━\u001b[0m\u001b[37m\u001b[0m \u001b[1m145s\u001b[0m 1s/step - accuracy: 0.7453 - loss: 0.7081 - val_accuracy: 0.3898 - val_loss: 3.5834\n",
            "Epoch 6/10\n",
            "\u001b[1m70/70\u001b[0m \u001b[32m━━━━━━━━━━━━━━━━━━━━\u001b[0m\u001b[37m\u001b[0m \u001b[1m106s\u001b[0m 1s/step - accuracy: 0.7782 - loss: 0.5924 - val_accuracy: 0.3559 - val_loss: 3.4665\n",
            "Epoch 7/10\n",
            "\u001b[1m70/70\u001b[0m \u001b[32m━━━━━━━━━━━━━━━━━━━━\u001b[0m\u001b[37m\u001b[0m \u001b[1m140s\u001b[0m 1s/step - accuracy: 0.7927 - loss: 0.5301 - val_accuracy: 0.3983 - val_loss: 3.5876\n",
            "Epoch 8/10\n",
            "\u001b[1m70/70\u001b[0m \u001b[32m━━━━━━━━━━━━━━━━━━━━\u001b[0m\u001b[37m\u001b[0m \u001b[1m101s\u001b[0m 1s/step - accuracy: 0.8339 - loss: 0.4540 - val_accuracy: 0.3729 - val_loss: 3.9577\n",
            "Epoch 9/10\n",
            "\u001b[1m70/70\u001b[0m \u001b[32m━━━━━━━━━━━━━━━━━━━━\u001b[0m\u001b[37m\u001b[0m \u001b[1m143s\u001b[0m 1s/step - accuracy: 0.8594 - loss: 0.3807 - val_accuracy: 0.3559 - val_loss: 4.2954\n",
            "Epoch 10/10\n",
            "\u001b[1m70/70\u001b[0m \u001b[32m━━━━━━━━━━━━━━━━━━━━\u001b[0m\u001b[37m\u001b[0m \u001b[1m101s\u001b[0m 1s/step - accuracy: 0.8856 - loss: 0.3367 - val_accuracy: 0.3390 - val_loss: 4.5126\n"
          ]
        },
        {
          "output_type": "execute_result",
          "data": {
            "text/plain": [
              "<keras.src.callbacks.history.History at 0x7d26dd883640>"
            ]
          },
          "metadata": {},
          "execution_count": 14
        }
      ]
    },
    {
      "cell_type": "code",
      "source": [
        "# Extract features using CNN\n",
        "from tensorflow.keras.models import Model\n",
        "\n",
        "# Instead of cnn_model.input, use the actual input layer\n",
        "feature_extractor = Model(inputs=cnn_model.layers[0].input, outputs=cnn_model.layers[-2].output)\n",
        "\n",
        "# Predict features from training and test data\n",
        "train_features = feature_extractor.predict(train_data)\n",
        "test_features = feature_extractor.predict(test_data)\n",
        "\n",
        "# Convert labels to integers for sklearn models\n",
        "train_labels = train_data.classes\n",
        "test_labels = test_data.classes"
      ],
      "metadata": {
        "colab": {
          "base_uri": "https://localhost:8080/"
        },
        "id": "3rOxwdRwgQPc",
        "outputId": "f99df9d7-9756-47ce-f24f-0164e3b2a8d5"
      },
      "execution_count": null,
      "outputs": [
        {
          "output_type": "stream",
          "name": "stdout",
          "text": [
            "\u001b[1m70/70\u001b[0m \u001b[32m━━━━━━━━━━━━━━━━━━━━\u001b[0m\u001b[37m\u001b[0m \u001b[1m57s\u001b[0m 808ms/step\n",
            "\u001b[1m4/4\u001b[0m \u001b[32m━━━━━━━━━━━━━━━━━━━━\u001b[0m\u001b[37m\u001b[0m \u001b[1m7s\u001b[0m 2s/step\n"
          ]
        }
      ]
    },
    {
      "cell_type": "code",
      "source": [
        "from sklearn.model_selection import train_test_split\n",
        "\n",
        "# Split data for machine learning models\n",
        "X_train, X_test, y_train_ml, y_test_ml = train_features, test_features, train_labels, test_labels"
      ],
      "metadata": {
        "id": "3Y7byumfqK0b"
      },
      "execution_count": null,
      "outputs": []
    },
    {
      "cell_type": "code",
      "source": [
        "from sklearn.neighbors import KNeighborsClassifier\n",
        "from sklearn.svm import SVC\n",
        "from sklearn.tree import DecisionTreeClassifier\n",
        "from sklearn.ensemble import RandomForestClassifier\n",
        "from sklearn.metrics import accuracy_score\n",
        "\n",
        "# KNN\n",
        "from sklearn.model_selection import GridSearchCV\n",
        "\n",
        "knn = KNeighborsClassifier()\n",
        "param_grid = {'n_neighbors': [3, 5, 7, 10], 'metric': ['euclidean', 'manhattan']}\n",
        "knn_grid_search = GridSearchCV(knn, param_grid, cv=5)\n",
        "knn_grid_search.fit(X_train, y_train_ml)\n",
        "best_knn = knn_grid_search.best_estimator_\n",
        "knn_predictions = best_knn.predict(X_test)\n",
        "knn_acc = accuracy_score(y_test_ml, knn_predictions)\n",
        "\n",
        "# Decision Tree\n",
        "dt = DecisionTreeClassifier()\n",
        "param_grid = {'max_depth': [5, 10, 15], 'min_samples_split': [2, 5, 10]}\n",
        "dt_grid_search = GridSearchCV(dt, param_grid, cv=5)\n",
        "dt_grid_search.fit(X_train, y_train_ml)\n",
        "best_dt = dt_grid_search.best_estimator_\n",
        "dt_predictions = best_dt.predict(X_test)\n",
        "dt_acc = accuracy_score(y_test_ml, dt_predictions)"
      ],
      "metadata": {
        "id": "6WSqdiUKuRiq"
      },
      "execution_count": null,
      "outputs": []
    },
    {
      "cell_type": "code",
      "source": [
        "# SVM\n",
        "from sklearn.model_selection import RandomizedSearchCV\n",
        "\n",
        "svm = SVC()\n",
        "param_grid = {'C': [0.1, 1, 10], 'kernel': ['linear', 'rbf'], 'gamma': ['scale', 'auto']}\n",
        "svm_random_search = RandomizedSearchCV(svm, param_grid, n_iter=10, cv=5, random_state=42)\n",
        "svm_random_search.fit(X_train, y_train_ml)\n",
        "best_svm = svm_random_search.best_estimator_\n",
        "svm_predictions = best_svm.predict(X_test)\n",
        "svm_acc = accuracy_score(y_test_ml, svm_predictions)\n",
        "\n",
        "# Random Forest\n",
        "rf = RandomForestClassifier()\n",
        "param_grid = {'n_estimators': [100, 200, 500], 'max_depth': [5, 10, 15], 'max_features': ['sqrt', 'log2']}\n",
        "rf_grid_search = GridSearchCV(rf, param_grid, cv=5)\n",
        "rf_grid_search.fit(X_train, y_train_ml)\n",
        "best_rf = rf_grid_search.best_estimator_\n",
        "rf_predictions = best_rf.predict(X_test)\n",
        "rf_acc = accuracy_score(y_test_ml, rf_predictions)"
      ],
      "metadata": {
        "id": "FLFYCiTLt5VZ"
      },
      "execution_count": null,
      "outputs": []
    },
    {
      "cell_type": "code",
      "source": [
        "# Print accuracy results for each model\n",
        "print(f\"KNN Accuracy: {knn_acc:.2f}\")\n",
        "print(f\"SVM Accuracy: {svm_acc:.2f}\")\n",
        "print(f\"Decision Tree Accuracy: {dt_acc:.2f}\")\n",
        "print(f\"Random Forest Accuracy: {rf_acc:.2f}\")"
      ],
      "metadata": {
        "colab": {
          "base_uri": "https://localhost:8080/"
        },
        "id": "7Ritf3EthPZm",
        "outputId": "dbba40cc-0bc6-4a5e-ef23-0be8e0ad7288"
      },
      "execution_count": null,
      "outputs": [
        {
          "output_type": "stream",
          "name": "stdout",
          "text": [
            "KNN Accuracy: 0.13\n",
            "SVM Accuracy: 0.11\n",
            "Decision Tree Accuracy: 0.17\n",
            "Random Forest Accuracy: 0.12\n"
          ]
        }
      ]
    },
    {
      "cell_type": "code",
      "source": [
        "import numpy as np\n",
        "\n",
        "# Define the weights for each model based on performance\n",
        "weights = {\n",
        "    'knn': knn_acc,\n",
        "    'svm': svm_acc,\n",
        "    'dt': dt_acc,\n",
        "    'rf': rf_acc\n",
        "}\n",
        "\n",
        "# Normalize weights\n",
        "total_weight = sum(weights.values())\n",
        "normalized_weights = {model: weight / total_weight for model, weight in weights.items()}\n",
        "\n",
        "# Weighted majority voting\n",
        "def weighted_voting(predictions, weights):\n",
        "    \"\"\"\n",
        "    Performs weighted voting for a single data point.\n",
        "\n",
        "    Args:\n",
        "        predictions: A list of predictions from each model for a single data point.\n",
        "        weights: A dictionary mapping model names to their weights.\n",
        "\n",
        "    Returns:\n",
        "        The predicted class label.\n",
        "    \"\"\"\n",
        "    num_classes = len(np.unique(y_test_ml))  # Get the number of unique classes from your data\n",
        "    weighted_predictions = np.zeros(num_classes)\n",
        "\n",
        "    for i, pred in enumerate(predictions):\n",
        "        # Adjust the prediction index to be 0-based if necessary\n",
        "        class_index = pred\n",
        "        # Check if the prediction is within the valid range of classes\n",
        "        if 0 <= class_index < num_classes:\n",
        "            weighted_predictions[class_index] += normalized_weights[list(weights.keys())[i]]\n",
        "\n",
        "    return np.argmax(weighted_predictions)\n",
        "\n",
        "# Apply weighted voting to ensemble predictions\n",
        "ensemble_predictions = np.array([knn_predictions, svm_predictions, dt_predictions, rf_predictions])\n",
        "\n",
        "# Transpose to get predictions for each sample in a row\n",
        "ensemble_predictions = ensemble_predictions.T\n",
        "\n",
        "final_predictions = np.apply_along_axis(lambda x: weighted_voting(x, weights), axis=1, arr=ensemble_predictions)  # Apply along rows\n",
        "\n",
        "ensemble_acc = accuracy_score(y_test_ml, final_predictions)\n",
        "print(f\"Improved Ensemble Accuracy: {ensemble_acc:.2f}\")"
      ],
      "metadata": {
        "colab": {
          "base_uri": "https://localhost:8080/"
        },
        "id": "8X9ir2LKhS7D",
        "outputId": "b47b06ff-aef8-4afa-f547-6a5682eee34d"
      },
      "execution_count": null,
      "outputs": [
        {
          "output_type": "stream",
          "name": "stdout",
          "text": [
            "Improved Ensemble Accuracy: 0.15\n"
          ]
        }
      ]
    },
    {
      "cell_type": "code",
      "source": [
        "cnn_weights = cnn_model.get_weights()  # This gives all weights and biases of the CNN model\n",
        "\n",
        "# Print the weights and biases for each layer\n",
        "weight_index = 0\n",
        "for i, layer in enumerate(cnn_model.layers):\n",
        "    print(f\"Layer {i}: {layer.name}\")\n",
        "\n",
        "    # Check if the layer has weights\n",
        "    if len(layer.weights) > 0:\n",
        "        print(f\"  Weights shape: {cnn_weights[weight_index].shape}\")  # Weights\n",
        "        weight_index += 1\n",
        "\n",
        "        # Check if the layer has biases (access through layer.weights)\n",
        "        if len(layer.weights) > 1: # Check if there's more than just weights (biases)\n",
        "            print(f\"  Biases shape: {cnn_weights[weight_index].shape}\")  # Biases\n",
        "            weight_index += 1\n",
        "\n",
        "    print()"
      ],
      "metadata": {
        "colab": {
          "base_uri": "https://localhost:8080/"
        },
        "id": "gWUGqHov2SQU",
        "outputId": "af6bdbb8-04f4-45d4-bc56-fade6fa4a425"
      },
      "execution_count": null,
      "outputs": [
        {
          "output_type": "stream",
          "name": "stdout",
          "text": [
            "Layer 0: conv2d\n",
            "  Weights shape: (3, 3, 3, 32)\n",
            "  Biases shape: (32,)\n",
            "\n",
            "Layer 1: max_pooling2d\n",
            "\n",
            "Layer 2: conv2d_1\n",
            "  Weights shape: (3, 3, 32, 64)\n",
            "  Biases shape: (64,)\n",
            "\n",
            "Layer 3: max_pooling2d_1\n",
            "\n",
            "Layer 4: conv2d_2\n",
            "  Weights shape: (3, 3, 64, 128)\n",
            "  Biases shape: (128,)\n",
            "\n",
            "Layer 5: max_pooling2d_2\n",
            "\n",
            "Layer 6: flatten\n",
            "\n",
            "Layer 7: dense\n",
            "  Weights shape: (25088, 128)\n",
            "  Biases shape: (128,)\n",
            "\n",
            "Layer 8: dense_1\n",
            "  Weights shape: (128, 9)\n",
            "  Biases shape: (9,)\n",
            "\n"
          ]
        }
      ]
    },
    {
      "cell_type": "code",
      "source": [
        "feature_extractor = Model(inputs=cnn_model.layers[0].input, outputs=cnn_model.layers[-2].output)  # Extract features from second to last layer\n",
        "\n",
        "# Predict features (embedded features) from training and test data\n",
        "train_features = feature_extractor.predict(train_data)  # Features from training set\n",
        "test_features = feature_extractor.predict(test_data)    # Features from test set\n",
        "\n",
        "# Print the shape of the extracted features\n",
        "print(\"Shape of extracted training features:\", train_features.shape)  # Features of the training set\n",
        "print(\"Shape of extracted test features:\", test_features.shape)"
      ],
      "metadata": {
        "colab": {
          "base_uri": "https://localhost:8080/"
        },
        "id": "EpKhWzRX24NM",
        "outputId": "a86c4785-5ae1-4d9b-e02f-e827cf019537"
      },
      "execution_count": null,
      "outputs": [
        {
          "output_type": "stream",
          "name": "stdout",
          "text": [
            "\u001b[1m70/70\u001b[0m \u001b[32m━━━━━━━━━━━━━━━━━━━━\u001b[0m\u001b[37m\u001b[0m \u001b[1m56s\u001b[0m 794ms/step\n",
            "\u001b[1m4/4\u001b[0m \u001b[32m━━━━━━━━━━━━━━━━━━━━\u001b[0m\u001b[37m\u001b[0m \u001b[1m7s\u001b[0m 2s/step\n",
            "Shape of extracted training features: (2239, 128)\n",
            "Shape of extracted test features: (118, 128)\n"
          ]
        }
      ]
    },
    {
      "cell_type": "code",
      "source": [
        "cnn_weights = 3211264  # Weights for CNN (from Layer 7)\n",
        "embedded_weights = 2738754  # Weights for embedded features (from Layer 7)\n",
        "total_weights = 3289440  # Total weights in the model\n",
        "cnn_accuracy = 0.88  # CNN accuracy\n",
        "embedded_accuracy = 0.15  # Embedded accuracy\n",
        "\n",
        "# Calculate the final accuracy using weighted average\n",
        "final_accuracy = ((cnn_weights / total_weights) * cnn_accuracy) + ((embedded_weights / total_weights) * embedded_accuracy)\n",
        "\n",
        "# Print the final accuracy\n",
        "print(f\"Final Weighted Accuracy: {final_accuracy:.4f}\")"
      ],
      "metadata": {
        "colab": {
          "base_uri": "https://localhost:8080/"
        },
        "id": "7t82vgRrUF3o",
        "outputId": "8972ab8b-e435-4f01-e809-c705b202aafc"
      },
      "execution_count": 1,
      "outputs": [
        {
          "output_type": "stream",
          "name": "stdout",
          "text": [
            "Final Weighted Accuracy: 0.9840\n"
          ]
        }
      ]
    }
  ]
}